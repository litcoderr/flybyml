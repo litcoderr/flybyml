{
 "cells": [
  {
   "cell_type": "markdown",
   "metadata": {},
   "source": [
    "Analyze state factors"
   ]
  },
  {
   "cell_type": "code",
   "execution_count": 2,
   "metadata": {},
   "outputs": [],
   "source": [
    "import json\n",
    "import os\n",
    "import numpy as np\n",
    "import seaborn as sns\n",
    "import pandas as pd\n",
    "import matplotlib.pyplot as plt"
   ]
  },
  {
   "cell_type": "code",
   "execution_count": 3,
   "metadata": {},
   "outputs": [],
   "source": [
    "def scale_length(arr):\n",
    "    timestep = len(arr)\n",
    "    \n",
    "    if timestep == 100:\n",
    "        return arr\n",
    "    elif timestep < 100:\n",
    "        factor = 100 // timestep\n",
    "        remainder = 100 % timestep\n",
    "        scaled_arr = []\n",
    "        for i in range(timestep):\n",
    "            scaled_arr.extend([arr[i]] * factor)\n",
    "            if i < remainder:\n",
    "                scaled_arr.append(arr[i])\n",
    "        return scaled_arr\n",
    "    else:\n",
    "        scaling_factor = timestep / 100\n",
    "        scaled_arr = [arr[int(i * scaling_factor)] for i in range(100)]\n",
    "        return scaled_arr"
   ]
  },
  {
   "cell_type": "code",
   "execution_count": 4,
   "metadata": {},
   "outputs": [
    {
     "name": "stdout",
     "output_type": "stream",
     "text": [
      "(49, 100, 10)\n"
     ]
    }
   ],
   "source": [
    "ids = os.listdir(\"/data/flybyml_dataset_v1/data\")\n",
    "\n",
    "all_obs = []\n",
    "all_act = []\n",
    "\n",
    "for id in ids:\n",
    "    obs = []\n",
    "    act = []\n",
    "    with open(f\"/data/flybyml_dataset_v1/data/{id}\", \"r\") as f:\n",
    "        data = json.load(f)\n",
    "    \n",
    "    data = scale_length(data)\n",
    "    \n",
    "    for datum in data:\n",
    "        obs.append(np.array([\n",
    "            *datum['state']['attitude'][:2], \n",
    "            datum['state']['speed'], \n",
    "            datum['state']['vertical_speed']\n",
    "        ]))\n",
    "        # construct actions\n",
    "        # normalize all values ranging from 0 to 1\n",
    "        act.append(np.array([\n",
    "            datum['control']['elevator'],\n",
    "            datum['control']['aileron'],\n",
    "            datum['control']['thrust'],\n",
    "            datum['control']['rudder'],\n",
    "            datum['control']['gear'],\n",
    "            datum['control']['flaps'],\n",
    "            datum['control']['trim'],\n",
    "            datum['control']['brake'],\n",
    "            datum['control']['speed_brake'],\n",
    "            datum['control']['reverse_thrust']\n",
    "        ]))\n",
    "    all_obs.append(np.stack(act, axis=0))\n",
    "    all_act.append(np.stack(act, axis=0)) \n",
    "    \n",
    "all_obs = np.array(all_obs)\n",
    "all_act = np.array(all_act)\n",
    "\n",
    "print(all_act.shape)"
   ]
  },
  {
   "cell_type": "code",
   "execution_count": 5,
   "metadata": {},
   "outputs": [
    {
     "data": {
      "text/plain": [
       "(10, 49, 100)"
      ]
     },
     "execution_count": 5,
     "metadata": {},
     "output_type": "execute_result"
    }
   ],
   "source": [
    "all_obs = np.transpose(all_obs, (2, 0, 1)) # (10, 49, 100)\n",
    "all_act = np.transpose(all_act, (2, 0, 1)) # (10, 49, 100)\n",
    "all_act.shape"
   ]
  },
  {
   "cell_type": "code",
   "execution_count": 6,
   "metadata": {},
   "outputs": [
    {
     "name": "stdout",
     "output_type": "stream",
     "text": [
      "pearson correlation: 1.00 | pitch and elevator\n",
      "pearson correlation: 1.00 | roll and aileron\n",
      "pearson correlation: 0.45 | pitch and flaps\n",
      "pearson correlation: 0.24 | speed and flaps\n"
     ]
    }
   ],
   "source": [
    "from itertools import combinations\n",
    "import heapq\n",
    "\n",
    "np.seterr(divide='ignore', invalid='ignore')\n",
    "\n",
    "obss = ['pitch', 'roll', 'speed', 'vertical_speed']\n",
    "acts = ['elevator', 'aileron', 'rudder', 'thrust', 'gear', 'flaps', 'trim', 'brake', 'speed_brake', 'reverse_thrust']\n",
    "\n",
    "corrs = []\n",
    "\n",
    "for i, obs in enumerate(obss):\n",
    "    for j, act in enumerate(acts):\n",
    "        corr = 0\n",
    "        for k in range(49):\n",
    "            pearson_corr = np.corrcoef(all_obs[i][k], all_act[j][k])[0, 1]\n",
    "            corr += pearson_corr\n",
    "        corr /= 49\n",
    "        heapq.heappush(corrs, (-corr, i, j, k))\n",
    "\n",
    "for _ in range(20):\n",
    "    corr, i, j, k = heapq.heappop(corrs)\n",
    "    corr *= -1\n",
    "    \n",
    "    if np.isnan(corr):\n",
    "        continue\n",
    "    \n",
    "    print(f\"pearson correlation: {corr:.2f} | {obss[i]} and {acts[j]}\")\n",
    "    \n"
   ]
  },
  {
   "cell_type": "code",
   "execution_count": 7,
   "metadata": {},
   "outputs": [
    {
     "data": {
      "image/png": "[encoded data removed]",
      "text/plain": [
       "<Figure size 800x600 with 1 Axes>"
      ]
     },
     "metadata": {},
     "output_type": "display_data"
    }
   ],
   "source": [
    "def plot_pearson_correlation(x, y):\n",
    "    pearson_corr = np.corrcoef(x, y)[0, 1]\n",
    "\n",
    "    plt.figure(figsize=(8, 6))\n",
    "    sns.scatterplot(x=x, y=y)\n",
    "    plt.title(f'Pearson Correlation: {pearson_corr:.2f}', fontsize=14)\n",
    "    plt.xlabel('roll', fontsize=12)\n",
    "    plt.ylabel('aileron', fontsize=12)\n",
    "    plt.grid(True)\n",
    "    plt.show()\n",
    "\n",
    "\n",
    "plot_pearson_correlation(all_obs[1][4], all_act[1][4])"
   ]
  }
 ],
 "metadata": {
  "kernelspec": {
   "display_name": "base",
   "language": "python",
   "name": "python3"
  },
  "language_info": {
   "codemirror_mode": {
    "name": "ipython",
    "version": 3
   },
   "file_extension": ".py",
   "mimetype": "text/x-python",
   "name": "python",
   "nbconvert_exporter": "python",
   "pygments_lexer": "ipython3",
   "version": "3.12.2"
  }
 },
 "nbformat": 4,
 "nbformat_minor": 2
}
