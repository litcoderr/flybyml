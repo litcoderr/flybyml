{
 "cells": [
  {
   "cell_type": "code",
   "execution_count": 54,
   "metadata": {},
   "outputs": [],
   "source": [
    "import torch\n",
    "from s3dg import S3D\n",
    "\n",
    "s3d_model = S3D('s3d_dict.npy', 512)\n",
    "s3d_model.load_state_dict(torch.load('s3d_howto100m.pth'))\n",
    "\n",
    "s3d_model = s3d_model.eval()"
   ]
  },
  {
   "cell_type": "code",
   "execution_count": 55,
   "metadata": {},
   "outputs": [],
   "source": [
    "import cv2\n",
    "\n",
    "def video_to_tensor(video_path):\n",
    "    cap = cv2.VideoCapture(video_path)\n",
    "\n",
    "    frames = []\n",
    "    while True:\n",
    "        ret, frame = cap.read()\n",
    "        if not ret:\n",
    "            break\n",
    "        frame = cv2.resize(frame, (256, 256))\n",
    "        frame = cv2.cvtColor(frame, cv2.COLOR_BGR2RGB)\n",
    "        frame = torch.tensor(frame, dtype=torch.float32).permute(2, 0, 1) / 255.0\n",
    "        frames.append(frame)\n",
    "\n",
    "    cap.release()\n",
    "    video = torch.stack(frames).transpose(1, 0).unsqueeze(0)\n",
    "    print(video.shape)\n",
    "    return video\n"
   ]
  },
  {
   "cell_type": "code",
   "execution_count": 56,
   "metadata": {},
   "outputs": [
    {
     "name": "stdout",
     "output_type": "stream",
     "text": [
      "word level is in vocab, like level\n",
      "word level is in vocab, like levels\n",
      "word level is in vocab, like leveling\n",
      "word level is in vocab, like leveled\n",
      "word level is in vocab, like cleveland\n",
      "word level is in vocab, like leveler\n",
      "word level is in vocab, like unlevel\n",
      "word level is in vocab, like levellers\n",
      "word level is in vocab, like levelness\n",
      "word level is in vocab, like levelers\n",
      "word level is in vocab, like unleveled\n",
      "word center is in vocab, like center\n",
      "word center is in vocab, like centered\n",
      "word center is in vocab, like centers\n",
      "word center is in vocab, like centerpiece\n",
      "word center is in vocab, like centering\n",
      "word center is in vocab, like centerline\n",
      "word center is in vocab, like centerpieces\n",
      "word center is in vocab, like epicenter\n",
      "word center is in vocab, like recenter\n",
      "word center is in vocab, like centerfold\n",
      "word center is in vocab, like percenter\n",
      "word center is in vocab, like supercenter\n",
      "word center is in vocab, like centerfire\n",
      "word center is in vocab, like percenters\n",
      "word center is in vocab, like centerfield\n",
      "word center is in vocab, like centerpoint\n",
      "word cockpit is in vocab, like cockpit\n",
      "word cockpit is in vocab, like cockpits\n",
      "word dancing is in vocab, like dancing\n",
      "word dancing is in vocab, like breakdancing\n",
      "word stabilize is in vocab, like stabilizer\n",
      "word stabilize is in vocab, like stabilize\n",
      "word stabilize is in vocab, like stabilized\n",
      "word stabilize is in vocab, like stabilizers\n",
      "word stabilize is in vocab, like stabilizes\n",
      "word stabilize is in vocab, like destabilize\n",
      "word stabilize is in vocab, like destabilized\n"
     ]
    }
   ],
   "source": [
    "vocab = s3d_model.text_module.word_to_token.keys()\n",
    "for vc in ['level', 'center', 'cockpit', 'dancing', 'stabilize']:\n",
    "    for key in vocab:\n",
    "        if vc in key:\n",
    "            print(f\"word {vc} is in vocab, like {key}\")"
   ]
  },
  {
   "cell_type": "code",
   "execution_count": 58,
   "metadata": {},
   "outputs": [
    {
     "name": "stdout",
     "output_type": "stream",
     "text": [
      "torch.Size([1, 3, 32, 256, 256])\n",
      "torch.Size([1, 3, 32, 256, 256])\n",
      "torch.Size([1, 3, 32, 256, 256])\n",
      "torch.Size([1, 3, 32, 256, 256])\n"
     ]
    }
   ],
   "source": [
    "import os\n",
    "\n",
    "demodir = \"C:/Users/lee/Desktop/ml/flybyml/module/s3d/demonstration\" \n",
    "demo_embeddings = []\n",
    "for i, path in enumerate(os.listdir(demodir)):\n",
    "    demopath = os.path.join(demodir, f\"level_off_4s_{i+1}.mp4\")\n",
    "    demo = video_to_tensor(demopath)\n",
    "    demo_embeddings.append(s3d_model(demo)['video_embedding'])\n",
    "\n",
    "failpath = \"C:/Users/lee/Desktop/ml/flybyml/module/s3d/failure/level_off_4s.mp4\"\n",
    "failure_embedding = s3d_model(video_to_tensor(failpath))['video_embedding']"
   ]
  },
  {
   "cell_type": "code",
   "execution_count": 66,
   "metadata": {},
   "outputs": [
    {
     "name": "stdout",
     "output_type": "stream",
     "text": [
      "\"cockpit\" simularity with level-off demo\n",
      "5.125244140625\n",
      "6.552531719207764\n",
      "6.5760955810546875\n",
      "-----------\n",
      "\"dancing\" simularity with level-off demo\n",
      "-4.077085494995117\n",
      "-2.875500440597534\n",
      "-2.1425867080688477\n",
      "-----------\n",
      "\"little kid\" simularity with level-off demo\n",
      "-3.9074528217315674\n",
      "-2.9795634746551514\n",
      "-3.0355470180511475\n",
      "-----------\n",
      "\"stabilize\" simularity with level-off demo\n",
      "0.08021053671836853\n",
      "1.2576274871826172\n",
      "1.1322146654129028\n",
      "-----------\n",
      "\"level off\" simularity with level-off demo\n",
      "-0.0018813759088516235\n",
      "0.7260665893554688\n",
      "1.0052106380462646\n",
      "-----------\n"
     ]
    }
   ],
   "source": [
    "text = ['cockpit', 'dancing', 'little kid', 'stabilize', 'level off']\n",
    "text_embedding = s3d_model.text_module(text)['text_embedding']\n",
    "\n",
    "# compute all the pairwise similarity scores between video and text\n",
    "for i, t in enumerate(text):\n",
    "    print(f'\"{t}\" simularity with level-off demo')\n",
    "    for j in range(3):\n",
    "        similarity_matrix = torch.matmul(text_embedding[i], demo_embeddings[j].t())\n",
    "        print(similarity_matrix.item())\n",
    "    print(\"-----------\")"
   ]
  },
  {
   "cell_type": "code",
   "execution_count": 67,
   "metadata": {},
   "outputs": [
    {
     "name": "stdout",
     "output_type": "stream",
     "text": [
      "\"cockpit\" simularity with level-off failure video\n",
      "4.556822299957275\n",
      "-----------\n",
      "\"dancing\" simularity with level-off failure video\n",
      "-4.853388786315918\n",
      "-----------\n",
      "\"little kid\" simularity with level-off failure video\n",
      "-3.9180500507354736\n",
      "-----------\n",
      "\"stabilize\" simularity with level-off failure video\n",
      "0.42023199796676636\n",
      "-----------\n",
      "\"level off\" simularity with level-off failure video\n",
      "0.6277258396148682\n",
      "-----------\n"
     ]
    }
   ],
   "source": [
    "for i, t in enumerate(text):\n",
    "    print(f'\"{t}\" simularity with level-off failure video')\n",
    "    similarity_matrix = torch.matmul(text_embedding[i], failure_embedding.t())\n",
    "    print(similarity_matrix.item())\n",
    "    print(\"-----------\")\n"
   ]
  },
  {
   "cell_type": "code",
   "execution_count": 77,
   "metadata": {},
   "outputs": [
    {
     "name": "stdout",
     "output_type": "stream",
     "text": [
      "0.14361393451690674\n"
     ]
    }
   ],
   "source": [
    "btw_demo = torch.matmul(demo_embeddings[0], demo_embeddings[1].t())\n",
    "print(btw_demo.item())"
   ]
  },
  {
   "cell_type": "code",
   "execution_count": 75,
   "metadata": {},
   "outputs": [
    {
     "name": "stdout",
     "output_type": "stream",
     "text": [
      "0.17633603513240814\n"
     ]
    }
   ],
   "source": [
    "with_failure = torch.matmul(demo_embeddings[0], failure_embedding.t())\n",
    "print(with_failure.item())"
   ]
  }
 ],
 "metadata": {
  "kernelspec": {
   "display_name": "emb-flight",
   "language": "python",
   "name": "python3"
  },
  "language_info": {
   "codemirror_mode": {
    "name": "ipython",
    "version": 3
   },
   "file_extension": ".py",
   "mimetype": "text/x-python",
   "name": "python",
   "nbconvert_exporter": "python",
   "pygments_lexer": "ipython3",
   "version": "3.10.13"
  }
 },
 "nbformat": 4,
 "nbformat_minor": 2
}
