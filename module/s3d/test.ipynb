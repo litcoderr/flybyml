{
 "cells": [
  {
   "cell_type": "code",
   "execution_count": 1,
   "metadata": {},
   "outputs": [],
   "source": [
    "import torch\n",
    "from s3dg import S3D\n",
    "\n",
    "s3d_model = S3D('s3d_dict.npy', 512)\n",
    "s3d_model.load_state_dict(torch.load('s3d_howto100m.pth'))\n",
    "\n",
    "s3d_model = s3d_model.eval()\n",
    "s3d_model = s3d_model.to('cuda')"
   ]
  },
  {
   "cell_type": "code",
   "execution_count": 4,
   "metadata": {},
   "outputs": [
    {
     "name": "stdout",
     "output_type": "stream",
     "text": [
      "/flybyml/module/s3d/alignment_sample/leveling_off_from_banking_left.mp4\n"
     ]
    },
    {
     "name": "stderr",
     "output_type": "stream",
     "text": [
      "/tmp/ipykernel_60749/1305591283.py:24: UserWarning: To copy construct from a tensor, it is recommended to use sourceTensor.clone().detach() or sourceTensor.clone().detach().requires_grad_(True), rather than torch.tensor(sourceTensor).\n",
      "  frame = torch.tensor(frame, dtype=torch.float32) / 255.0\n"
     ]
    },
    {
     "name": "stdout",
     "output_type": "stream",
     "text": [
      "torch.Size([1, 3, 216, 256, 256])\n",
      "/flybyml/module/s3d/alignment_sample/pitching_up.mp4\n",
      "torch.Size([1, 3, 234, 256, 256])\n",
      "/flybyml/module/s3d/alignment_sample/level_flight.mp4\n",
      "torch.Size([1, 3, 366, 256, 256])\n",
      "/flybyml/module/s3d/alignment_sample/banking_left.mp4\n",
      "torch.Size([1, 3, 256, 256, 256])\n",
      "/flybyml/module/s3d/alignment_sample/pitching_down.mp4\n",
      "torch.Size([1, 3, 258, 256, 256])\n",
      "/flybyml/module/s3d/alignment_sample/leveling_off_from_banking_right.mp4\n",
      "torch.Size([1, 3, 238, 256, 256])\n",
      "/flybyml/module/s3d/alignment_sample/banking_right.mp4\n",
      "torch.Size([1, 3, 244, 256, 256])\n"
     ]
    },
    {
     "data": {
      "image/png": "[encoded data removed]",
      "text/plain": [
       "<Figure size 720x576 with 2 Axes>"
      ]
     },
     "metadata": {
      "needs_background": "light"
     },
     "output_type": "display_data"
    }
   ],
   "source": [
    "import os\n",
    "import cv2\n",
    "import numpy as np\n",
    "import matplotlib.pyplot as plt\n",
    "\n",
    "from pathlib import Path\n",
    "from torchvision.transforms import ToTensor\n",
    "            \n",
    "def video_to_tensor(video_path):\n",
    "    print(str(video_path))\n",
    "\n",
    "    cap = cv2.VideoCapture(str(video_path))\n",
    "    if not cap.isOpened():\n",
    "        print(\"not opened\")\n",
    "\n",
    "    frames = []\n",
    "    toTensor = ToTensor()\n",
    "    while True:\n",
    "        ret, frame = cap.read()\n",
    "        if not ret:\n",
    "            break\n",
    "        frame = cv2.resize(frame, (256, 256), interpolation=cv2.INTER_AREA)\n",
    "        frame = toTensor(cv2.cvtColor(frame, cv2.COLOR_BGR2RGB))\n",
    "        frame = torch.tensor(frame, dtype=torch.float32) / 255.0\n",
    "        frames.append(frame)\n",
    "    if len(frames) % 2 == 1:\n",
    "        frames = frames[:-1]\n",
    "        \n",
    "    cap.release()\n",
    "\n",
    "    return torch.stack(frames).permute(1, 0, 2, 3).unsqueeze(0)\n",
    "\n",
    "def compute_similarity_matrix(video, text):\n",
    "    text_output = s3d_model.text_module([text])[\"text_embedding\"]\n",
    "    text_emb = text_output[0]\n",
    "    video_emb = s3d_model(video)[\"video_embedding\"]\n",
    "    return torch.matmul(text_emb, video_emb.t()).item()\n",
    "\n",
    "video_dir = Path(\"/flybyml/module/s3d/alignment_sample\")\n",
    "text = [filepath.split(\".mp4\")[0].replace(\"_\", \" \") for filepath in os.listdir(video_dir)]\n",
    "sim = []\n",
    "\n",
    "for file_path in os.listdir(video_dir):\n",
    "    vt = video_to_tensor(video_dir / file_path)\n",
    "    vt = vt.to('cuda')\n",
    "    print(vt.shape)\n",
    "    for t in text:\n",
    "        sim.append(compute_similarity_matrix(vt, t))\n",
    "\n",
    "sim_matrix = np.array(sim).reshape(len(text), len(text))\n",
    "plt.figure(figsize=(10, 8))\n",
    "plt.imshow(sim_matrix, cmap='Blues', interpolation='nearest')\n",
    "plt.colorbar()\n",
    "plt.title('Domain Alignment Confusion Matrix')\n",
    "plt.xlabel('Text')\n",
    "plt.ylabel('Video')\n",
    "plt.xticks(np.arange(len(text)), text, rotation=90)\n",
    "plt.yticks(np.arange(len(text)), text)\n",
    "plt.tight_layout()\n",
    "plt.show()\n"
   ]
  },
  {
   "cell_type": "code",
   "execution_count": null,
   "metadata": {},
   "outputs": [],
   "source": [
    "import os\n",
    "\n",
    "demodir = \"C:/Users/lee/Desktop/ml/flybyml/module/s3d/demonstration\" \n",
    "demo_embeddings = []\n",
    "for i, path in enumerate(os.listdir(demodir)):\n",
    "    demopath = os.path.join(demodir, f\"level_off_4s_{i+1}.mp4\")\n",
    "    demo = video_to_tensor(demopath)\n",
    "    demo_embeddings.append(s3d_model(demo)['video_embedding'])\n",
    "\n",
    "failpath = \"C:/Users/lee/Desktop/ml/flybyml/module/s3d/failure/level_off_4s.mp4\"\n",
    "failure_embedding = s3d_model(video_to_tensor(failpath))['video_embedding']"
   ]
  },
  {
   "cell_type": "code",
   "execution_count": null,
   "metadata": {},
   "outputs": [],
   "source": [
    "text = ['cockpit leveling out the plane']\n",
    "text_embedding = s3d_model.text_module(text)['text_embedding']\n",
    "\n",
    "# compute all the pairwise similarity scores between video and text\n",
    "for i, t in enumerate(text):\n",
    "    print(f'\"{t}\" simularity with level-off demo')\n",
    "    for j in range(3):\n",
    "        similarity_matrix = torch.matmul(text_embedding[i], demo_embeddings[j].t())\n",
    "        print(similarity_matrix.item())\n",
    "    print(\"-----------\")"
   ]
  },
  {
   "cell_type": "code",
   "execution_count": null,
   "metadata": {},
   "outputs": [],
   "source": [
    "for i, t in enumerate(text):\n",
    "    print(f'\"{t}\" simularity with level-off failure video')\n",
    "    similarity_matrix = torch.matmul(text_embedding[i], failure_embedding.t())\n",
    "    print(similarity_matrix.item())\n",
    "    print(\"-----------\")\n"
   ]
  },
  {
   "cell_type": "code",
   "execution_count": null,
   "metadata": {},
   "outputs": [],
   "source": [
    "btw_demo = torch.matmul(demo_embeddings[0], demo_embeddings[1].t())\n",
    "print(btw_demo.item())"
   ]
  },
  {
   "cell_type": "code",
   "execution_count": null,
   "metadata": {},
   "outputs": [],
   "source": [
    "with_failure = torch.matmul(demo_embeddings[0], failure_embedding.t())\n",
    "print(with_failure.item())"
   ]
  }
 ],
 "metadata": {
  "kernelspec": {
   "display_name": "emb-flight",
   "language": "python",
   "name": "python3"
  },
  "language_info": {
   "codemirror_mode": {
    "name": "ipython",
    "version": 3
   },
   "file_extension": ".py",
   "mimetype": "text/x-python",
   "name": "python",
   "nbconvert_exporter": "python",
   "pygments_lexer": "ipython3",
   "version": "3.8.13"
  }
 },
 "nbformat": 4,
 "nbformat_minor": 2
}
