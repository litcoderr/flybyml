{
 "cells": [
  {
   "cell_type": "code",
   "execution_count": 2,
   "metadata": {},
   "outputs": [],
   "source": [
    "import torch\n",
    "from s3dg import S3D\n",
    "\n",
    "s3d_model = S3D('s3d_dict.npy', 512)\n",
    "s3d_model.load_state_dict(torch.load('s3d_howto100m.pth'))\n",
    "\n",
    "s3d_model = s3d_model.eval()"
   ]
  },
  {
   "cell_type": "code",
   "execution_count": 3,
   "metadata": {},
   "outputs": [],
   "source": [
    "import cv2\n",
    "\n",
    "def video_to_tensor(video_path):\n",
    "    cap = cv2.VideoCapture(video_path)\n",
    "\n",
    "    frames = []\n",
    "    while True:\n",
    "        ret, frame = cap.read()\n",
    "        if not ret:\n",
    "            break\n",
    "        frame = cv2.resize(frame, (256, 256))\n",
    "        frame = cv2.cvtColor(frame, cv2.COLOR_BGR2RGB)\n",
    "        frame = torch.tensor(frame, dtype=torch.float32).permute(2, 0, 1) / 255.0\n",
    "        frames.append(frame)\n",
    "\n",
    "    cap.release()\n",
    "    video = torch.stack(frames).transpose(1, 0).unsqueeze(0)\n",
    "    print(video.shape)\n",
    "    return video\n"
   ]
  },
  {
   "cell_type": "code",
   "execution_count": 4,
   "metadata": {},
   "outputs": [
    {
     "name": "stdout",
     "output_type": "stream",
     "text": [
      "torch.Size([1, 3, 32, 256, 256])\n",
      "torch.Size([1, 3, 32, 256, 256])\n",
      "torch.Size([1, 3, 32, 256, 256])\n",
      "torch.Size([1, 3, 32, 256, 256])\n"
     ]
    }
   ],
   "source": [
    "import os\n",
    "\n",
    "demodir = \"C:/Users/lee/Desktop/ml/flybyml/module/s3d/demonstration\" \n",
    "demo_embeddings = []\n",
    "for i, path in enumerate(os.listdir(demodir)):\n",
    "    demopath = os.path.join(demodir, f\"level_off_4s_{i+1}.mp4\")\n",
    "    demo = video_to_tensor(demopath)\n",
    "    demo_embeddings.append(s3d_model(demo)['video_embedding'])\n",
    "\n",
    "failpath = \"C:/Users/lee/Desktop/ml/flybyml/module/s3d/failure/level_off_4s.mp4\"\n",
    "failure_embedding = s3d_model(video_to_tensor(failpath))['video_embedding']"
   ]
  },
  {
   "cell_type": "code",
   "execution_count": 5,
   "metadata": {},
   "outputs": [
    {
     "name": "stdout",
     "output_type": "stream",
     "text": [
      "\"cockpit leveling out the plane\" simularity with level-off demo\n",
      "4.106225490570068\n",
      "5.893315315246582\n",
      "6.238439083099365\n",
      "-----------\n"
     ]
    }
   ],
   "source": [
    "text = ['cockpit leveling out the plane']\n",
    "text_embedding = s3d_model.text_module(text)['text_embedding']\n",
    "\n",
    "# compute all the pairwise similarity scores between video and text\n",
    "for i, t in enumerate(text):\n",
    "    print(f'\"{t}\" simularity with level-off demo')\n",
    "    for j in range(3):\n",
    "        similarity_matrix = torch.matmul(text_embedding[i], demo_embeddings[j].t())\n",
    "        print(similarity_matrix.item())\n",
    "    print(\"-----------\")"
   ]
  },
  {
   "cell_type": "code",
   "execution_count": 6,
   "metadata": {},
   "outputs": [
    {
     "name": "stdout",
     "output_type": "stream",
     "text": [
      "\"cockpit leveling out the plane\" simularity with level-off failure video\n",
      "2.7186119556427\n",
      "-----------\n"
     ]
    }
   ],
   "source": [
    "for i, t in enumerate(text):\n",
    "    print(f'\"{t}\" simularity with level-off failure video')\n",
    "    similarity_matrix = torch.matmul(text_embedding[i], failure_embedding.t())\n",
    "    print(similarity_matrix.item())\n",
    "    print(\"-----------\")\n"
   ]
  },
  {
   "cell_type": "code",
   "execution_count": 77,
   "metadata": {},
   "outputs": [
    {
     "name": "stdout",
     "output_type": "stream",
     "text": [
      "0.14361393451690674\n"
     ]
    }
   ],
   "source": [
    "btw_demo = torch.matmul(demo_embeddings[0], demo_embeddings[1].t())\n",
    "print(btw_demo.item())"
   ]
  },
  {
   "cell_type": "code",
   "execution_count": 75,
   "metadata": {},
   "outputs": [
    {
     "name": "stdout",
     "output_type": "stream",
     "text": [
      "0.17633603513240814\n"
     ]
    }
   ],
   "source": [
    "with_failure = torch.matmul(demo_embeddings[0], failure_embedding.t())\n",
    "print(with_failure.item())"
   ]
  }
 ],
 "metadata": {
  "kernelspec": {
   "display_name": "emb-flight",
   "language": "python",
   "name": "python3"
  },
  "language_info": {
   "codemirror_mode": {
    "name": "ipython",
    "version": 3
   },
   "file_extension": ".py",
   "mimetype": "text/x-python",
   "name": "python",
   "nbconvert_exporter": "python",
   "pygments_lexer": "ipython3",
   "version": "3.10.13"
  }
 },
 "nbformat": 4,
 "nbformat_minor": 2
}
